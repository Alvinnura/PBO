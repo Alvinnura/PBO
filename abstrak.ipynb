{
 "cells": [
  {
   "cell_type": "code",
   "execution_count": 3,
   "metadata": {},
   "outputs": [
    {
     "name": "stdout",
     "output_type": "stream",
     "text": [
      "Dokumen1: Ini Kumpulin Huruf\n",
      "Dokumen2: Ini Kumpulin Huruf\n",
      "Dokumen3: Ini Sebuah Kalimat\n"
     ]
    }
   ],
   "source": [
    "#class Dokumen merupakan abstrak class\n",
    "class Dokumen:\n",
    "    def __init__(self, name):    \n",
    "        self.name = name\n",
    " \n",
    "    def show(self):             \n",
    "        raise NotImplementedError(\"Subclass must implement abstract method\")\n",
    " \n",
    "class Huruf(Dokumen):\n",
    "    def show(self):\n",
    "        return ('Ini Kumpulin Huruf')\n",
    " \n",
    "class Kalimat(Dokumen):\n",
    "    def show(self):\n",
    "        return ('Ini Sebuah Kalimat')\n",
    " \n",
    "dokumens = [Huruf('Dokumen1'),\n",
    "             Huruf('Dokumen2'),\n",
    "             Kalimat('Dokumen3')]\n",
    " \n",
    "for Dokumen in dokumens:\n",
    "    print (Dokumen.name + ': ' + Dokumen.show())"
   ]
  },
  {
   "cell_type": "code",
   "execution_count": 4,
   "metadata": {},
   "outputs": [
    {
     "name": "stdout",
     "output_type": "stream",
     "text": [
      "Masukkan Nama Makanan : Apel\n",
      "Masukkan Harga Makanan : 15000\n",
      "masukkan diskon : 45\n",
      "Masukkan Tanggal Kadaluarsa : 3\n",
      "Masukkan Bulan Kadaluarsa : 5\n",
      "Masukkan Tahun Kadaluarsa : 2020\n",
      "\n",
      "Masukkan Nama Pakaian: Hem Batik\n",
      "Masukkan Harga Pakaian : 130000\n",
      "masukkan diskon : 10\n",
      "Ukuran Pakaian : M\n",
      "============MAKANAN============\n",
      "KODE               :  1604\n",
      "DESKRIPSI          :  MAKANAN TRENDING\n",
      "NAMA               :  Apel\n",
      "HARGA MAKANAN      :  8250\n",
      "TANGGAL KADALUARSA :  3 5 2020\n",
      "\n",
      "============PAKAIAN============\n",
      "KODE               :  111\n",
      "DESKRIPSI          :  PAKAIAN\n",
      "NAMA               :  Hem Batik\n",
      "HARGA PAKAIAN      :  117000\n",
      "UKURAN PAKAIAN     :  M\n"
     ]
    }
   ],
   "source": [
    "class KBarang:\n",
    "    def __init__(self,kode,deskripsi):\n",
    "        self.kode = kode\n",
    "        self.deskripsi = deskripsi\n",
    "class Barang(KBarang):\n",
    "    def __init__(self,kode,deskripsi,nama,harga,diskon):\n",
    "        self.nama = nama\n",
    "        self.harga = harga\n",
    "        self.diskon = diskon\n",
    "        KBarang.__init__(self,kode,deskripsi)\n",
    "    def Tampil(self):\n",
    "        raise NotImplementedError('subclasses must implement abstract method') #abstrak class\n",
    "class Makanan(Barang):\n",
    "    def __init__(self,kode,deskripsi,nama,harga,diskon,exdate,bulan,tahun):\n",
    "        self.exdate = exdate\n",
    "        self.bulan = bulan\n",
    "        self.tahun = tahun\n",
    "        self.harga = harga\n",
    "        Barang. __init__(self,kode,deskripsi,nama,harga,diskon)\n",
    "    def Tampil(self):\n",
    "        print(\"KODE               : \",self.kode)\n",
    "        print(\"DESKRIPSI          : \",self.deskripsi)\n",
    "        print(\"NAMA               : \",self.nama)\n",
    "        diskon1 = self.harga*self.diskon/100\n",
    "        print(\"HARGA MAKANAN      : \",int(self.harga-diskon1))\n",
    "        print(\"TANGGAL KADALUARSA : \",self.exdate,self.bulan,self.tahun)\n",
    "class Pakaian(Barang):\n",
    "    def __init__(self,kode,deskripsi,nama,harga,diskon,ukuran):\n",
    "        self.ukuran = ukuran\n",
    "        self.harga = harga\n",
    "        Barang. __init__(self,kode,deskripsi,nama,harga,diskon)\n",
    "    def Tampil(self):\n",
    "        print(\"KODE               : \",self.kode)\n",
    "        print(\"DESKRIPSI          : \",self.deskripsi)\n",
    "        print(\"NAMA               : \",self.nama)\n",
    "        diskon1 = self.harga*self.diskon/100\n",
    "        print(\"HARGA PAKAIAN      : \",int(self.harga - diskon1))\n",
    "        print(\"UKURAN PAKAIAN     : \",self.ukuran)\n",
    "class Menampilkan:\n",
    "    def __init__(self,kode,deskripsi,nama,harga,diskon,exdate,bulan,tahun,ukuran):\n",
    "        Makanan.__init__(self,kode,deskripsi,nama,harga,diskon,exdate,bulan,tahun)\n",
    "        Pakaian.__init__(self,kode,deskripsi,nama,harga,diskon,ukuran)\n",
    "    def Tampil(self):\n",
    "        print(\"============MAKANAN============\")\n",
    "        makanan.Tampil()\n",
    "        print()\n",
    "        print(\"============PAKAIAN============\")\n",
    "        pakaian.Tampil()\n",
    "Nama = input(\"Masukkan Nama Makanan : \")\n",
    "Harga = int(input(\"Masukkan Harga Makanan : \"))\n",
    "Diskon = float(input(\"masukkan diskon : \"))\n",
    "Exdate = int(input(\"Masukkan Tanggal Kadaluarsa : \"))\n",
    "Bulan = input(\"Masukkan Bulan Kadaluarsa : \")\n",
    "Tahun = int(input(\"Masukkan Tahun Kadaluarsa : \"))\n",
    "makanan = Makanan(1604,\"MAKANAN TRENDING\",Nama,Harga,Diskon,Exdate,Bulan,Tahun)\n",
    "print()\n",
    "Nama = input(\"Masukkan Nama Pakaian: \")\n",
    "Harga = int(input(\"Masukkan Harga Pakaian : \"))\n",
    "Diskon = float(input(\"masukkan diskon : \"))\n",
    "Ukuran = input(\"Ukuran Pakaian : \")\n",
    "pakaian = Pakaian(111,\"PAKAIAN\",Nama,Harga,Diskon,Ukuran)\n",
    "\n",
    "tampil = Menampilkan(\"\",\"\",Nama,Harga,Diskon,Exdate,Bulan,Tahun,Ukuran)\n",
    "tampil.Tampil()"
   ]
  },
  {
   "cell_type": "code",
   "execution_count": null,
   "metadata": {},
   "outputs": [],
   "source": []
  }
 ],
 "metadata": {
  "kernelspec": {
   "display_name": "Python 3",
   "language": "python",
   "name": "python3"
  },
  "language_info": {
   "codemirror_mode": {
    "name": "ipython",
    "version": 3
   },
   "file_extension": ".py",
   "mimetype": "text/x-python",
   "name": "python",
   "nbconvert_exporter": "python",
   "pygments_lexer": "ipython3",
   "version": "3.6.5"
  }
 },
 "nbformat": 4,
 "nbformat_minor": 2
}
