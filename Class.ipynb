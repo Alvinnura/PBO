{
 "cells": [
  {
   "cell_type": "code",
   "execution_count": 3,
   "metadata": {},
   "outputs": [
    {
     "name": "stdout",
     "output_type": "stream",
     "text": [
      "18\n",
      "9\n",
      "27\n"
     ]
    }
   ],
   "source": [
    "#class\n",
    "class kubus:\n",
    "    def __init__(self, s):\n",
    "        self.sisi = s\n",
    "\n",
    "    def keliling(self):\n",
    "        print(6 * self.sisi)\n",
    "\n",
    "    def luas(self):\n",
    "        print(self.sisi * self.sisi)\n",
    "\n",
    "    def volume(self):\n",
    "        print(self.sisi * self.sisi * self.sisi)\n",
    "\n",
    "a = kubus(3)\n",
    "a.keliling()\n",
    "a.luas()\n",
    "a.volume()\n"
   ]
  },
  {
   "cell_type": "code",
   "execution_count": 2,
   "metadata": {},
   "outputs": [
    {
     "name": "stdout",
     "output_type": "stream",
     "text": [
      "Nomor : 123 \n",
      "Nama : Alvin \n",
      "No. Rekening : 123654\n",
      "\n",
      "No. Rekening :  132 \n",
      "Saldo :  150000\n",
      "Saldo sekarang :  145000\n"
     ]
    }
   ],
   "source": [
    "#contoh lain class\n",
    "class nasabah:\n",
    "    def __init__(self, no, na, rek):\n",
    "        self.nomor = no\n",
    "        self.nama = na\n",
    "        self.norek = rek\n",
    "\n",
    "    def rekening(self):\n",
    "        print(\"Nomor :\", self.nomor, \"\\nNama :\", self.nama, \"\\nNo. Rekening :\", self.norek)\n",
    "\n",
    "a = nasabah(123, \"Alvin\", 123654)\n",
    "a.rekening()\n",
    "\n",
    "class rekening:\n",
    "    def __init__(self, s, r):\n",
    "        self.saldo = s\n",
    "        self.rekening = r\n",
    "\n",
    "    def ambil(self, a):\n",
    "        self.saldo -= a\n",
    "\n",
    "    def setor(self, s):\n",
    "        self.saldo += s\n",
    "\n",
    "    def ceksaldo(self):\n",
    "        print(\"Saldo sekarang : \", self.saldo)\n",
    "\n",
    "    def tampil(self):\n",
    "        print(\"No. Rekening : \", self.rekening, \"\\nSaldo : \", self.saldo)\n",
    "\n",
    "b = rekening(150000, 132)\n",
    "print()\n",
    "b.tampil()\n",
    "b.ambil(15000)\n",
    "b.setor(10000)\n",
    "b.ceksaldo()\n",
    "\n"
   ]
  },
  {
   "cell_type": "code",
   "execution_count": 5,
   "metadata": {},
   "outputs": [
    {
     "name": "stdout",
     "output_type": "stream",
     "text": [
      "160411100111\n",
      "Alvin Nur Arrofi\n",
      "3.5\n",
      "Cumlaude\n"
     ]
    }
   ],
   "source": [
    "class Mhs:\n",
    "    def __init__(self, ni, na, ip):\n",
    "        self.nim = ni\n",
    "        self.nama = na\n",
    "        self.ipk = ip\n",
    "\n",
    "    def tampilkanMhs(self):\n",
    "        print(self.nim)\n",
    "        print(self.nama)\n",
    "        print(self.ipk)\n",
    "\n",
    "    def predikat(self):\n",
    "        if self.ipk >= 3.5:\n",
    "            print(\"Cumlaude\")\n",
    "\n",
    "        elif 3 < self.ipk < 3.5:\n",
    "            print(\"Sangat Memusakan\")\n",
    "\n",
    "        elif 2.5 < self.ipk < 3:\n",
    "            print(\"Memuaskan\")\n",
    "\n",
    "        else:\n",
    "            print(\"Cukup\")\n",
    "Mhs1 = Mhs(160411100111, \"Alvin Nur Arrofi\", 3.5)\n",
    "Mhs1.tampilkanMhs()\n",
    "Mhs1.predikat()\n"
   ]
  },
  {
   "cell_type": "code",
   "execution_count": null,
   "metadata": {},
   "outputs": [],
   "source": []
  }
 ],
 "metadata": {
  "kernelspec": {
   "display_name": "Python 3",
   "language": "python",
   "name": "python3"
  },
  "language_info": {
   "codemirror_mode": {
    "name": "ipython",
    "version": 3
   },
   "file_extension": ".py",
   "mimetype": "text/x-python",
   "name": "python",
   "nbconvert_exporter": "python",
   "pygments_lexer": "ipython3",
   "version": "3.6.5"
  }
 },
 "nbformat": 4,
 "nbformat_minor": 2
}
