{
 "cells": [
  {
   "cell_type": "code",
   "execution_count": 2,
   "metadata": {},
   "outputs": [
    {
     "name": "stdout",
     "output_type": "stream",
     "text": [
      "woork\n",
      "hooooowll\n"
     ]
    }
   ],
   "source": [
    "#polymorphism\n",
    "class Srigala:\n",
    "    def gonggong(self):\n",
    "        print (\"hooooowll\")\n",
    " \n",
    "class Anjing:\n",
    "    def gonggong(self):\n",
    "        print (\"woork\")\n",
    " \n",
    "def suara(hewan):\n",
    "    hewan.gonggong()\n",
    " \n",
    "dog = Anjing()\n",
    "wolf = Srigala()\n",
    "suara(dog)\n",
    "suara(wolf)"
   ]
  },
  {
   "cell_type": "code",
   "execution_count": 3,
   "metadata": {},
   "outputs": [
    {
     "name": "stdout",
     "output_type": "stream",
     "text": [
      "Suara gonggongan hewan\n",
      "Suara Anjing yaitu woork\n",
      "Suara gonggongan hewan\n",
      "Suara Serigala yaitu hooooowll\n",
      "Suara Singa yaitu Roaaarsss\n"
     ]
    }
   ],
   "source": [
    "#gabungan inheritance dan polymorphism\n",
    "class Hewan(object):\n",
    "    def __init__(self, nama):\n",
    "        self.nama = nama\n",
    " \n",
    "    def gonggong(self):\n",
    "        print ('Suara gonggongan hewan')\n",
    " \n",
    "class Anjing(Hewan):\n",
    "    def gonggong(self):\n",
    "        super(Anjing, self).gonggong()\n",
    "        return (\"woork\")\n",
    " \n",
    "class Srigala(Hewan):\n",
    "    def gonggong(self):\n",
    "        Hewan.gonggong(self)\n",
    "        return (\"hooooowll\")\n",
    " \n",
    "class Singa(Hewan):\n",
    "    def gonggong(self):\n",
    "       return (\"Roaaarsss\")\n",
    " \n",
    "dog = Anjing('Anjing')\n",
    "wolf = Srigala('Serigala')\n",
    "lion = Singa('Singa')\n",
    " \n",
    "print ('Suara ' + dog.nama + ' adalah ' + dog.gonggong())\n",
    "print ('Suara ' + wolf.nama + ' adalah ' + wolf.gonggong())\n",
    "print ('Suara ' + lion.nama + ' adalah ' + lion.gonggong())"
   ]
  },
  {
   "cell_type": "code",
   "execution_count": null,
   "metadata": {},
   "outputs": [],
   "source": []
  }
 ],
 "metadata": {
  "kernelspec": {
   "display_name": "Python 3",
   "language": "python",
   "name": "python3"
  },
  "language_info": {
   "codemirror_mode": {
    "name": "ipython",
    "version": 3
   },
   "file_extension": ".py",
   "mimetype": "text/x-python",
   "name": "python",
   "nbconvert_exporter": "python",
   "pygments_lexer": "ipython3",
   "version": "3.6.5"
  }
 },
 "nbformat": 4,
 "nbformat_minor": 2
}
