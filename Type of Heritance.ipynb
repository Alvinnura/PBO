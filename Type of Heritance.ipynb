{
 "cells": [
  {
   "cell_type": "code",
   "execution_count": 1,
   "metadata": {},
   "outputs": [
    {
     "name": "stdout",
     "output_type": "stream",
     "text": [
      "Nama: Anda\n",
      "Nilai Pelajaran\n",
      "Math: 100\n",
      "Biology: 90\n",
      "Nama: Andi\n",
      "Nilai Pelajaran\n",
      "Math: 80\n",
      "Biology: 70\n",
      "Nama:  Anda\n",
      "Rata2 Nilai:  95.0\n",
      "Nama:  Andi\n",
      "Rata2 Nilai:  75.0\n"
     ]
    }
   ],
   "source": [
    "#Multiple Inheritance\n",
    "class Murid:\n",
    "    \n",
    "    def __init__(self):\n",
    "        self.nama = input(\"Nama: \")\n",
    "        \n",
    "    def display(self):\n",
    "        print(\"Nama: \",self.nama)\n",
    "   \n",
    "class NilaiPelajaran:\n",
    " \n",
    "    def __init__(self):\n",
    "        print(\"Nilai Pelajaran\")\n",
    "        self.math = int(input(\"Math: \"))\n",
    "        self.biology = int(input(\"Biology: \"))\n",
    "   \n",
    "    def display(self):\n",
    "        print(\"Rata2 Nilai: \", (self.math + self.biology)/2 )\n",
    "        \n",
    "\n",
    "\n",
    "class student(Murid, NilaiPelajaran):\n",
    "    def __init__(self):\n",
    "        Murid.__init__(self)\n",
    "        NilaiPelajaran.__init__(self)\n",
    "        \n",
    "    def result(self):\n",
    "        Murid.display(self)\n",
    "        NilaiPelajaran.display(self)\n",
    "        \n",
    "\n",
    "stu1 = student()\n",
    "stu2 = student()\n",
    "\n",
    "stu1.result()\n",
    "stu2.result()"
   ]
  },
  {
   "cell_type": "code",
   "execution_count": 3,
   "metadata": {},
   "outputs": [
    {
     "name": "stdout",
     "output_type": "stream",
     "text": [
      "The fish is swimming\n",
      "The fish cannot swim backwards, but can sink bakwards\n"
     ]
    }
   ],
   "source": [
    "#Overriding\n",
    "class Fish:\n",
    "    def __init__ (self, first_name, last_name=\"Fish\", skeleton=\"Bone\", eyelids=False):\n",
    "        self.first_name = first_name\n",
    "        self.last_name = last_name\n",
    "        self.skeleton = skeleton\n",
    "        self.eyelids = eyelids\n",
    "\n",
    "    def swim(self):\n",
    "        print(\"The fish is swimming\")\n",
    "\n",
    "    def swim_backwards(self):\n",
    "        print(\"The fish can swim backwards\")\n",
    "\n",
    "class Shark(Fish):\n",
    "    def __init__ (self, first_name, last_name=\"Shark\", skeleton=\"Cartilage\", eyelids=True):\n",
    "        self.first_name = first_name\n",
    "        self.last_name = last_name\n",
    "        self.skeleton = skeleton\n",
    "        self.eyelids = eyelids\n",
    "\n",
    "    def swim_backwards(self):\n",
    "        print(\"The fish cannot swim backwards, but can sink bakwards\")\n",
    "\n",
    "hiu = Shark(\"Hiu Besar\")\n",
    "hiu.swim()\n",
    "hiu.swim_backwards()\n"
   ]
  },
  {
   "cell_type": "code",
   "execution_count": 8,
   "metadata": {},
   "outputs": [
    {
     "name": "stdout",
     "output_type": "stream",
     "text": [
      "Object orang tua telah dibuat\n",
      "Object anak telah dibuat\n",
      "Orang tua : Woe anakku Ali Rama ngopi ngapa  ...\n",
      "Oke otw ayah terhebat ...\n"
     ]
    }
   ],
   "source": [
    "#Super\n",
    "class OrangTua(object):\n",
    "    def __init__(self):\n",
    "        print (\"Object orang tua telah dibuat\")\n",
    " \n",
    "    def berkata(self, nama_anak):\n",
    "        print (\"Orang tua : Woe anakku %s ngopi ngapa  ...\" % nama_anak)\n",
    " \n",
    "class Anak(OrangTua):\n",
    "    def __init__(self):\n",
    "        super(Anak, self).__init__()\n",
    "        print (\"Object anak telah dibuat\")\n",
    " \n",
    "    def berkata(self, sifat_ayah):\n",
    "        OrangTua.berkata(self, 'Ali Rama')\n",
    "        print (\"Oke otw ayah %s ...\" % sifat_ayah)\n",
    " \n",
    "anak = Anak()\n",
    "anak.berkata('terhebat')"
   ]
  },
  {
   "cell_type": "code",
   "execution_count": null,
   "metadata": {},
   "outputs": [],
   "source": []
  }
 ],
 "metadata": {
  "kernelspec": {
   "display_name": "Python 3",
   "language": "python",
   "name": "python3"
  },
  "language_info": {
   "codemirror_mode": {
    "name": "ipython",
    "version": 3
   },
   "file_extension": ".py",
   "mimetype": "text/x-python",
   "name": "python",
   "nbconvert_exporter": "python",
   "pygments_lexer": "ipython3",
   "version": "3.6.5"
  }
 },
 "nbformat": 4,
 "nbformat_minor": 2
}
