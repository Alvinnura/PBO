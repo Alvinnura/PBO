{
 "cells": [
  {
   "cell_type": "code",
   "execution_count": 1,
   "metadata": {},
   "outputs": [
    {
     "name": "stdout",
     "output_type": "stream",
     "text": [
      "5\n",
      "HaloSemua\n"
     ]
    }
   ],
   "source": [
    "# Fungsi untuk beberapa argumen \n",
    "def add(tipe_data, *args): \n",
    "  \n",
    "    # Bila tipe data bernilai int \n",
    "    # Maka a bernilai 0 \n",
    "    if tipe_data == 'int': \n",
    "        a = 0\n",
    "          \n",
    "    # Bila tipe data bernilai str \n",
    "    # Maka a bernilai '' (nilai kosong)\n",
    "    if tipe_data =='str': \n",
    "        a ='' \n",
    "  \n",
    "    # Untuk int atau str dalam argumen \n",
    "    for x in args: \n",
    "  \n",
    "        # Fungsi ini untuk menambahkan \n",
    "        # nilai argumen(args) kepada nilai a   \n",
    "        # tergantung dari jenis tipe_data-nya (harus sama)\n",
    "        a = a + x \n",
    "  \n",
    "    print(a) \n",
    "  \n",
    "# Integer \n",
    "add('int', 2, 3) \n",
    "  \n",
    "# String \n",
    "add('str', 'Halo', 'Semua')\n",
    "\n",
    "# Memanggil method yang sama namun parameter yang digunakan berbeda\n"
   ]
  },
  {
   "cell_type": "code",
   "execution_count": null,
   "metadata": {},
   "outputs": [],
   "source": []
  }
 ],
 "metadata": {
  "kernelspec": {
   "display_name": "Python 3",
   "language": "python",
   "name": "python3"
  },
  "language_info": {
   "codemirror_mode": {
    "name": "ipython",
    "version": 3
   },
   "file_extension": ".py",
   "mimetype": "text/x-python",
   "name": "python",
   "nbconvert_exporter": "python",
   "pygments_lexer": "ipython3",
   "version": "3.6.5"
  }
 },
 "nbformat": 4,
 "nbformat_minor": 2
}
