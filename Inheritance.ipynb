{
 "cells": [
  {
   "cell_type": "code",
   "execution_count": 1,
   "metadata": {},
   "outputs": [
    {
     "name": "stdout",
     "output_type": "stream",
     "text": [
      "User\n",
      "Hello Brian Akbar!\n",
      "\n",
      "Programer\n",
      "Hello Dita Anggraini!\n",
      "first name = Dita\n",
      "last name = Anggraini\n",
      "programing python\n"
     ]
    }
   ],
   "source": [
    "class user:\n",
    "    def __init__(self, name):\n",
    "        self.name = name\n",
    "    def printname(self):\n",
    "        print(\"Hello \" + self.name + \"!\")\n",
    "        \n",
    "class programer(user):\n",
    "    def __init__(self, firstname, lastname):\n",
    "        self.lastname = lastname\n",
    "        self.firstname = firstname\n",
    "    def printfirstname(self):\n",
    "        print(\"first name = \" + self.firstname)\n",
    "    def printlastname(self):\n",
    "        print(\"last name = \" + self.lastname)\n",
    "    def dopython(self):\n",
    "        print(\"programing python\")\n",
    "        \n",
    "class programer1(user):\n",
    "    pass \n",
    "\n",
    "print(\"User\")\n",
    "User = user(\"Brian Akbar\")\n",
    "User.printname()\n",
    "print()\n",
    "print(\"Programer\")\n",
    "Programer = programer1(\"Dita Anggraini\")\n",
    "Programer.printname()\n",
    "\n",
    "dita = programer(\"Dita\",\"Anggraini\")\n",
    "dita.printfirstname()\n",
    "dita.printlastname()\n",
    "dita.dopython()"
   ]
  },
  {
   "cell_type": "code",
   "execution_count": 2,
   "metadata": {},
   "outputs": [
    {
     "name": "stdout",
     "output_type": "stream",
     "text": [
      "Dosen\n",
      "name = andi\n",
      "Nip: 1243627\n",
      "nidn: 262781\n",
      "karyawan\n",
      "name = danu\n",
      "Nip: 1243627\n"
     ]
    }
   ],
   "source": [
    "class orang:\n",
    "    def __init__(self, name):\n",
    "        self.name = name\n",
    "    def printname(self):\n",
    "        print(\"name = \" +self.name )\n",
    "        \n",
    "class Mahasiswa(orang): #(inheritence = )\n",
    "    def __init__(self,nama, npm,semester):\n",
    "        orang.__init__(self,nama)\n",
    "        self.npm=npm\n",
    "        self.semester=semester\n",
    "    def NamaMhs(self):\n",
    "        orang.printname(self)\n",
    "        print(\"Nim:\",self.npm)\n",
    "        print(\"Semester:\",self.semester)\n",
    "\n",
    "class pegawai(orang):\n",
    "    def __init__(self,nama, nip):\n",
    "        orang.__init__(self,nama)\n",
    "        self.nip=nip\n",
    "    def tampil(self):\n",
    "        orang.printname(self)\n",
    "        print(\"Nip:\",self.nip)\n",
    "class karyawan(pegawai):\n",
    "    def __init__(self,nama,nip):\n",
    "        pegawai.__init__(self,nama,nip)\n",
    "    def nama_karyawan(self):\n",
    "        print(\"karyawan\")\n",
    "        pegawai.tampil(self)\n",
    "class dosen(pegawai):\n",
    "    def __init__(self,nama, nip,nidn):\n",
    "        self.nidn=nidn\n",
    "        pegawai.__init__(self,nama,nip)\n",
    "    def nama_dosen(self):\n",
    "        print(\"Dosen\")\n",
    "        pegawai.tampil(self)\n",
    "        print(\"nidn:\",self.nidn)\n",
    "        \n",
    "andi = dosen(\"andi\",1243627,262781)\n",
    "andi.nama_dosen()    \n",
    "danu = karyawan(\"danu\",1243627)\n",
    "danu.nama_karyawan()"
   ]
  },
  {
   "cell_type": "code",
   "execution_count": 8,
   "metadata": {},
   "outputs": [
    {
     "name": "stdout",
     "output_type": "stream",
     "text": [
      "Unggas itu : \n",
      "Bertelur\n",
      "Bersayap\n",
      "\n",
      "Ayam itu : \n",
      "Bertelur\n",
      "Bersayap\n",
      "Berkokok\n",
      "\n",
      "Bebek itu : \n",
      "Bertelur\n",
      "Bersayap\n",
      "Berenang\n",
      "\n",
      "Burung itu : \n",
      "Bertelur\n",
      "Bersayap\n",
      "Terbang\n"
     ]
    },
    {
     "data": {
      "text/plain": [
       "<function print>"
      ]
     },
     "execution_count": 8,
     "metadata": {},
     "output_type": "execute_result"
    }
   ],
   "source": [
    "class unggas :\n",
    "    def sifatUnggas(self) :\n",
    "        print (\"Bertelur\")\n",
    "        print (\"Bersayap\")\n",
    "\n",
    "class bebek(unggas) :\n",
    "    def sifatBebek(self) : \n",
    "        print (\"Berenang\")\n",
    "\n",
    "class burung(unggas) :\n",
    "    def sifatBurung(unggas) :\n",
    "        print (\"Terbang\")\n",
    "\n",
    "class ayam(unggas) :\n",
    "    def sifatAyam(self) :\n",
    "        print (\"Berkokok\")\n",
    "\n",
    "#inisialisasi\n",
    "unggas = unggas()\n",
    "ayam = ayam()\n",
    "bebek = bebek()\n",
    "burung = burung()\n",
    "\n",
    "\n",
    "print (\"Unggas itu : \")\n",
    "unggas.sifatUnggas()\n",
    "print\n",
    "print()\n",
    "print (\"Ayam itu : \")\n",
    "ayam.sifatUnggas()\n",
    "ayam.sifatAyam()\n",
    "print\n",
    "print()\n",
    "print (\"Bebek itu : \")\n",
    "bebek.sifatUnggas()\n",
    "bebek.sifatBebek()\n",
    "print\n",
    "print()\n",
    "print (\"Burung itu : \")\n",
    "burung.sifatUnggas()\n",
    "burung.sifatBurung()\n",
    "print\n"
   ]
  },
  {
   "cell_type": "code",
   "execution_count": null,
   "metadata": {},
   "outputs": [],
   "source": []
  }
 ],
 "metadata": {
  "kernelspec": {
   "display_name": "Python 3",
   "language": "python",
   "name": "python3"
  },
  "language_info": {
   "codemirror_mode": {
    "name": "ipython",
    "version": 3
   },
   "file_extension": ".py",
   "mimetype": "text/x-python",
   "name": "python",
   "nbconvert_exporter": "python",
   "pygments_lexer": "ipython3",
   "version": "3.6.5"
  }
 },
 "nbformat": 4,
 "nbformat_minor": 2
}
