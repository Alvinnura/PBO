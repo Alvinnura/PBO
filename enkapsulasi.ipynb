{
 "cells": [
  {
   "cell_type": "code",
   "execution_count": 1,
   "metadata": {},
   "outputs": [
    {
     "name": "stdout",
     "output_type": "stream",
     "text": [
      "ini sudah kode\n",
      "Nomer Kode\n",
      "ini sudah kode\n"
     ]
    }
   ],
   "source": [
    "class categori:\n",
    "    def __init__(self):\n",
    "        self.__kode()\n",
    "    def nomer(self):\n",
    "        print(\"Nomer Kode\")\n",
    "    def __kode(self):\n",
    "        print(\"ini sudah kode\")\n",
    "\n",
    "k = categori()\n",
    "k.nomer()\n",
    "k._categori__kode()\n"
   ]
  },
  {
   "cell_type": "code",
   "execution_count": null,
   "metadata": {},
   "outputs": [],
   "source": [
    "class lingkaran:\n",
    "    def __init__(self):\n",
    "        self.__jari = 5 #atribut privat\n",
    "    def display(self):\n",
    "        print(\"LINGKARAN\")\n",
    "        print(\"Jari-jari lingkaran = \",self.__jari)\n",
    "    def __luas(self): #method privat\n",
    "        if self.__jari % 7 == 0:\n",
    "            luas = 22/7*(self.__jari**2)\n",
    "            print(\"Luas Lingkaran = \",luas)\n",
    "        else:\n",
    "            luas = 3.14*(self.__jari**2)\n",
    "            print(\"Luas Lingkaran = \",luas)\n",
    "    def keliling(self,jari1):\n",
    "        self.__jari = jari1 #memanggil atribut privat\n",
    "        if jari1 % 7 == 0:\n",
    "            kel = 2*22/7*jari1\n",
    "            print(\"Keliling Lingkaran = \",kel)\n",
    "        else:\n",
    "            kel = 2*3.14*jari1\n",
    "            print(\"Keliling Lingkaran = \",kel)\n",
    "\n",
    "ling = lingkaran()\n",
    "ling.display()\n",
    "ling.keliling(6)\n",
    "ling._lingkaran__luas()"
   ]
  }
 ],
 "metadata": {
  "kernelspec": {
   "display_name": "Python 3",
   "language": "python",
   "name": "python3"
  },
  "language_info": {
   "codemirror_mode": {
    "name": "ipython",
    "version": 3
   },
   "file_extension": ".py",
   "mimetype": "text/x-python",
   "name": "python",
   "nbconvert_exporter": "python",
   "pygments_lexer": "ipython3",
   "version": "3.6.5"
  }
 },
 "nbformat": 4,
 "nbformat_minor": 2
}
